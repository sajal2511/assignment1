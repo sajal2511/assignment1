{
 "cells": [
  {
   "cell_type": "markdown",
   "id": "01b10bdd-1d20-457e-8978-c40ef8cc8d76",
   "metadata": {},
   "source": [
    "# 1. In the below elements which of them are values or an expression? eg:- values can be integer or string and expressions will be mathematical operators.\n",
    "* \n",
    "'hello'\n",
    "-87.8\n",
    "- \n",
    "/ \n",
    "+\t\n",
    "6 "
   ]
  },
  {
   "cell_type": "markdown",
   "id": "16bcf654-162d-4b46-8dfc-f67253967001",
   "metadata": {},
   "source": [
    "Ans: Expression: +, -, *, /\n",
    "Values: 'hello', -87.8, 6"
   ]
  },
  {
   "cell_type": "markdown",
   "id": "4f136b6d-8f40-4aa4-ab29-ebaa0ef41307",
   "metadata": {},
   "source": [
    "# 2. What is the difference between string and variable?"
   ]
  },
  {
   "cell_type": "markdown",
   "id": "71f61747-d5b3-4fa9-b2a5-531ad913db93",
   "metadata": {},
   "source": [
    "Ans: Variables are symbols that you can use to store data in a program. You can think of them as an empty box that you fill with some data or value. Strings are data, so we can use them to fill up a variable. Declaring strings as variables can make it easier for us to work with strings throughout our Python programs."
   ]
  },
  {
   "cell_type": "markdown",
   "id": "a1bf65d7-49fc-4344-9461-6aec2a203cd9",
   "metadata": {},
   "source": [
    "# 3. Describe three different data types."
   ]
  },
  {
   "cell_type": "markdown",
   "id": "715a2209-efce-419c-8018-731ee826125c",
   "metadata": {},
   "source": [
    "Ans: Integer, floating-point number and string."
   ]
  },
  {
   "cell_type": "markdown",
   "id": "2f3e86d5-b772-449a-8242-952048485a72",
   "metadata": {},
   "source": [
    "# 4. What is an expression made up of? What do all expressions do?"
   ]
  },
  {
   "cell_type": "markdown",
   "id": "b3fe36f9-04c1-4839-a56d-89a009c9462f",
   "metadata": {},
   "source": [
    "Ans: An expression is a combination of values and operators. All expressions evaluate (that is, reduce) to a single value."
   ]
  },
  {
   "cell_type": "markdown",
   "id": "7989f88d-2b81-4e9a-8dfb-69d0bf3e8f59",
   "metadata": {},
   "source": [
    "# 5. This assignment statements, like spam = 10. What is the difference between an expression and a statement?"
   ]
  },
  {
   "cell_type": "markdown",
   "id": "ef5a574c-f78b-4e6d-902a-b078c8d58a50",
   "metadata": {},
   "source": [
    "Ans: An expression evaluates to a single value. A statement does not.\n",
    "The Main Differences Between an Expression and a Statement in Programming. Expressions can be assigned or used as operands, while statements can only be declared. Statements create side effects to be useful, while expressions are values or execute to values."
   ]
  },
  {
   "cell_type": "markdown",
   "id": "ce14e197-b373-4898-851f-63898c00aa95",
   "metadata": {},
   "source": [
    "# 6. After running the following code, what does the variable bacon contain?\n",
    "bacon = 22\n",
    "bacon + 1\n"
   ]
  },
  {
   "cell_type": "markdown",
   "id": "69f270d6-5268-4d54-b413-1dc59c10e014",
   "metadata": {},
   "source": [
    "Ans: The bacon variable is set to 20. The bacon + 1 expression does not reassign the value in bacon (that would need an assignment statement: bacon = bacon + 1)"
   ]
  },
  {
   "cell_type": "markdown",
   "id": "6db0d091-276c-415b-84ce-d01b58d5ddde",
   "metadata": {},
   "source": [
    "# 7. What should the values of the following two terms be?\n",
    "'spam' + 'spamspam'\n",
    "'spam' * 3\n"
   ]
  },
  {
   "cell_type": "markdown",
   "id": "c97ff21d-7c40-4293-a433-2c9b455ae45c",
   "metadata": {},
   "source": [
    "Ans: Both expression evaluate to the string 'spamspamspam'"
   ]
  },
  {
   "cell_type": "markdown",
   "id": "e8ac7c3c-c5a6-48bb-8d75-28ac225e6392",
   "metadata": {},
   "source": [
    "# 8. Why is eggs a valid variable name while 100 is invalid?"
   ]
  },
  {
   "cell_type": "markdown",
   "id": "b0238409-433e-44fb-8a24-5160a3d780c8",
   "metadata": {},
   "source": [
    "Ans: Variable names cannot begin with number."
   ]
  },
  {
   "cell_type": "markdown",
   "id": "763bedf3-5a4f-4793-be3e-318254016852",
   "metadata": {},
   "source": [
    "# 9. What three functions can be used to get the integer, floating-point number, or string version of a value?"
   ]
  },
  {
   "cell_type": "markdown",
   "id": "318f9e75-a106-45dd-a6a4-bdc55d779984",
   "metadata": {},
   "source": [
    "Ans: The int(), float(), and str() functions will evaluate to the integer, floating-point number, and string versions of the value passed to them."
   ]
  },
  {
   "cell_type": "markdown",
   "id": "3d4cb09f-1b18-4218-9958-280daa96c874",
   "metadata": {},
   "source": [
    "# 10. Why does this expression cause an error? How can you fix it?\n",
    "'I have eaten ' + 99 + ' burritos.'\n"
   ]
  },
  {
   "cell_type": "markdown",
   "id": "44cec22b-bd26-43bf-bab1-b74169dc02ea",
   "metadata": {},
   "source": [
    "Ans: The expression causes an error because 99 is an integer, and only strings can be concatenated to other strings with the + operator. The correct way is I have eaten ' + str(99) + ' burritos.'."
   ]
  },
  {
   "cell_type": "code",
   "execution_count": null,
   "id": "7927cb30-8979-4566-a872-a720466ffe05",
   "metadata": {},
   "outputs": [],
   "source": []
  }
 ],
 "metadata": {
  "kernelspec": {
   "display_name": "Python 3 (ipykernel)",
   "language": "python",
   "name": "python3"
  },
  "language_info": {
   "codemirror_mode": {
    "name": "ipython",
    "version": 3
   },
   "file_extension": ".py",
   "mimetype": "text/x-python",
   "name": "python",
   "nbconvert_exporter": "python",
   "pygments_lexer": "ipython3",
   "version": "3.10.6"
  }
 },
 "nbformat": 4,
 "nbformat_minor": 5
}
